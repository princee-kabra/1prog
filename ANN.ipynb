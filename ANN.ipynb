{
 "cells": [
  {
   "cell_type": "code",
   "execution_count": 1,
   "metadata": {},
   "outputs": [],
   "source": [
    "import pandas as pd\n",
    "import numpy as np\n",
    "import tensorflow as tf"
   ]
  },
  {
   "cell_type": "code",
   "execution_count": 2,
   "metadata": {},
   "outputs": [],
   "source": [
    "data=pd.read_csv(\"E:/ml/Churn_Modelling.csv\")\n",
    "x=data.iloc[:,3:-1].values\n",
    "y=data.iloc[:,-1].values"
   ]
  },
  {
   "cell_type": "code",
   "execution_count": 3,
   "metadata": {},
   "outputs": [],
   "source": [
    "\n",
    "from sklearn.preprocessing import LabelEncoder\n",
    "le=LabelEncoder()\n",
    "x[:,2]=le.fit_transform(x[:,2])"
   ]
  },
  {
   "cell_type": "code",
   "execution_count": 4,
   "metadata": {},
   "outputs": [],
   "source": [
    "from sklearn.preprocessing import OneHotEncoder\n",
    "from sklearn.compose import ColumnTransformer\n",
    "ct=ColumnTransformer(transformers=[('encoder',OneHotEncoder(),[1])],remainder='passthrough')\n",
    "x=np.array(ct.fit_transform(x))"
   ]
  },
  {
   "cell_type": "code",
   "execution_count": 5,
   "metadata": {},
   "outputs": [],
   "source": [
    "from sklearn.model_selection import train_test_split\n",
    "x_train,x_test,y_train,y_test=train_test_split(x,y,test_size=0.25,random_state=0)"
   ]
  },
  {
   "cell_type": "code",
   "execution_count": 6,
   "metadata": {},
   "outputs": [],
   "source": [
    "from sklearn.preprocessing import StandardScaler\n",
    "sc=StandardScaler()\n",
    "x_train=sc.fit_transform(x_train)\n",
    "x_test=sc.fit_transform(x_test)"
   ]
  },
  {
   "cell_type": "code",
   "execution_count": 7,
   "metadata": {},
   "outputs": [],
   "source": [
    "ann=tf.keras.models.Sequential()"
   ]
  },
  {
   "cell_type": "code",
   "execution_count": 8,
   "metadata": {},
   "outputs": [],
   "source": [
    "ann.add(tf.keras.layers.Dense(units=6,activation='relu'))"
   ]
  },
  {
   "cell_type": "code",
   "execution_count": 10,
   "metadata": {},
   "outputs": [],
   "source": [
    "ann.add(tf.keras.layers.Dense(units=1,activation='sigmoid'))"
   ]
  },
  {
   "cell_type": "code",
   "execution_count": 11,
   "metadata": {},
   "outputs": [],
   "source": [
    "ann.compile(optimizer='adam',loss='binary_crossentropy',metrics=['accuracy'])"
   ]
  },
  {
   "cell_type": "code",
   "execution_count": 14,
   "metadata": {},
   "outputs": [
    {
     "name": "stdout",
     "output_type": "stream",
     "text": [
      "Train on 7500 samples\n",
      "Epoch 1/100\n",
      "7500/7500 [==============================] - 2s 325us/sample - loss: 0.6033 - accuracy: 0.7447\n",
      "Epoch 2/100\n",
      "7500/7500 [==============================] - 1s 87us/sample - loss: 0.4990 - accuracy: 0.7993\n",
      "Epoch 3/100\n",
      "7500/7500 [==============================] - 1s 86us/sample - loss: 0.4538 - accuracy: 0.8077\n",
      "Epoch 4/100\n",
      "7500/7500 [==============================] - 1s 77us/sample - loss: 0.4334 - accuracy: 0.8119\n",
      "Epoch 5/100\n",
      "7500/7500 [==============================] - 1s 117us/sample - loss: 0.4217 - accuracy: 0.8168\n",
      "Epoch 6/100\n",
      "7500/7500 [==============================] - 1s 96us/sample - loss: 0.4127 - accuracy: 0.8204\n",
      "Epoch 7/100\n",
      "7500/7500 [==============================] - 1s 89us/sample - loss: 0.4050 - accuracy: 0.8229\n",
      "Epoch 8/100\n",
      "7500/7500 [==============================] - 1s 91us/sample - loss: 0.3981 - accuracy: 0.8291\n",
      "Epoch 9/100\n",
      "7500/7500 [==============================] - 1s 82us/sample - loss: 0.3917 - accuracy: 0.8324\n",
      "Epoch 10/100\n",
      "7500/7500 [==============================] - 1s 81us/sample - loss: 0.3858 - accuracy: 0.8351\n",
      "Epoch 11/100\n",
      "7500/7500 [==============================] - 1s 86us/sample - loss: 0.3805 - accuracy: 0.8391\n",
      "Epoch 12/100\n",
      "7500/7500 [==============================] - 1s 84us/sample - loss: 0.3757 - accuracy: 0.8421\n",
      "Epoch 13/100\n",
      "7500/7500 [==============================] - 1s 88us/sample - loss: 0.3712 - accuracy: 0.8443\n",
      "Epoch 14/100\n",
      "7500/7500 [==============================] - 1s 81us/sample - loss: 0.3675 - accuracy: 0.8463\n",
      "Epoch 15/100\n",
      "7500/7500 [==============================] - 1s 87us/sample - loss: 0.3639 - accuracy: 0.8475\n",
      "Epoch 16/100\n",
      "7500/7500 [==============================] - 1s 82us/sample - loss: 0.3608 - accuracy: 0.8493\n",
      "Epoch 17/100\n",
      "7500/7500 [==============================] - 1s 83us/sample - loss: 0.3580 - accuracy: 0.8517\n",
      "Epoch 18/100\n",
      "7500/7500 [==============================] - 1s 85us/sample - loss: 0.3559 - accuracy: 0.8524\n",
      "Epoch 19/100\n",
      "7500/7500 [==============================] - 1s 80us/sample - loss: 0.3535 - accuracy: 0.8549\n",
      "Epoch 20/100\n",
      "7500/7500 [==============================] - 1s 83us/sample - loss: 0.3519 - accuracy: 0.8555\n",
      "Epoch 21/100\n",
      "7500/7500 [==============================] - 1s 81us/sample - loss: 0.3504 - accuracy: 0.8559\n",
      "Epoch 22/100\n",
      "7500/7500 [==============================] - 1s 83us/sample - loss: 0.3490 - accuracy: 0.8569\n",
      "Epoch 23/100\n",
      "7500/7500 [==============================] - 1s 85us/sample - loss: 0.3478 - accuracy: 0.8571\n",
      "Epoch 24/100\n",
      "7500/7500 [==============================] - 1s 85us/sample - loss: 0.3468 - accuracy: 0.8587\n",
      "Epoch 25/100\n",
      "7500/7500 [==============================] - 1s 89us/sample - loss: 0.3458 - accuracy: 0.8589\n",
      "Epoch 26/100\n",
      "7500/7500 [==============================] - 1s 80us/sample - loss: 0.3455 - accuracy: 0.8589\n",
      "Epoch 27/100\n",
      "7500/7500 [==============================] - 1s 87us/sample - loss: 0.3450 - accuracy: 0.8596s - loss: 0.3247 \n",
      "Epoch 28/100\n",
      "7500/7500 [==============================] - 1s 77us/sample - loss: 0.3445 - accuracy: 0.8588\n",
      "Epoch 29/100\n",
      "7500/7500 [==============================] - 1s 82us/sample - loss: 0.3439 - accuracy: 0.8579\n",
      "Epoch 30/100\n",
      "7500/7500 [==============================] - 1s 82us/sample - loss: 0.3437 - accuracy: 0.8588\n",
      "Epoch 31/100\n",
      "7500/7500 [==============================] - 1s 80us/sample - loss: 0.3433 - accuracy: 0.8595\n",
      "Epoch 32/100\n",
      "7500/7500 [==============================] - 1s 85us/sample - loss: 0.3431 - accuracy: 0.8609\n",
      "Epoch 33/100\n",
      "7500/7500 [==============================] - 1s 79us/sample - loss: 0.3426 - accuracy: 0.8603\n",
      "Epoch 34/100\n",
      "7500/7500 [==============================] - 1s 80us/sample - loss: 0.3422 - accuracy: 0.8607\n",
      "Epoch 35/100\n",
      "7500/7500 [==============================] - 1s 79us/sample - loss: 0.3419 - accuracy: 0.8617\n",
      "Epoch 36/100\n",
      "7500/7500 [==============================] - 1s 78us/sample - loss: 0.3419 - accuracy: 0.8625\n",
      "Epoch 37/100\n",
      "7500/7500 [==============================] - 1s 80us/sample - loss: 0.3416 - accuracy: 0.8619\n",
      "Epoch 38/100\n",
      "7500/7500 [==============================] - 1s 82us/sample - loss: 0.3414 - accuracy: 0.8615\n",
      "Epoch 39/100\n",
      "7500/7500 [==============================] - 1s 72us/sample - loss: 0.3414 - accuracy: 0.8596\n",
      "Epoch 40/100\n",
      "7500/7500 [==============================] - 1s 80us/sample - loss: 0.3410 - accuracy: 0.8612\n",
      "Epoch 41/100\n",
      "7500/7500 [==============================] - 1s 72us/sample - loss: 0.3410 - accuracy: 0.8611\n",
      "Epoch 42/100\n",
      "7500/7500 [==============================] - 1s 78us/sample - loss: 0.3409 - accuracy: 0.8603\n",
      "Epoch 43/100\n",
      "7500/7500 [==============================] - 1s 72us/sample - loss: 0.3408 - accuracy: 0.8597\n",
      "Epoch 44/100\n",
      "7500/7500 [==============================] - 1s 80us/sample - loss: 0.3405 - accuracy: 0.8612\n",
      "Epoch 45/100\n",
      "7500/7500 [==============================] - 1s 79us/sample - loss: 0.3403 - accuracy: 0.8612\n",
      "Epoch 46/100\n",
      "7500/7500 [==============================] - 1s 76us/sample - loss: 0.3402 - accuracy: 0.8611\n",
      "Epoch 47/100\n",
      "7500/7500 [==============================] - 1s 80us/sample - loss: 0.3401 - accuracy: 0.8612\n",
      "Epoch 48/100\n",
      "7500/7500 [==============================] - 1s 76us/sample - loss: 0.3403 - accuracy: 0.8628\n",
      "Epoch 49/100\n",
      "7500/7500 [==============================] - ETA: 0s - loss: 0.3401 - accuracy: 0.86 - 1s 76us/sample - loss: 0.3400 - accuracy: 0.8612\n",
      "Epoch 50/100\n",
      "7500/7500 [==============================] - 1s 75us/sample - loss: 0.3397 - accuracy: 0.8612\n",
      "Epoch 51/100\n",
      "7500/7500 [==============================] - 1s 76us/sample - loss: 0.3400 - accuracy: 0.8612\n",
      "Epoch 52/100\n",
      "7500/7500 [==============================] - 1s 75us/sample - loss: 0.3397 - accuracy: 0.8625\n",
      "Epoch 53/100\n",
      "7500/7500 [==============================] - 1s 76us/sample - loss: 0.3395 - accuracy: 0.8607\n",
      "Epoch 54/100\n",
      "7500/7500 [==============================] - 1s 78us/sample - loss: 0.3393 - accuracy: 0.8640\n",
      "Epoch 55/100\n",
      "7500/7500 [==============================] - 1s 76us/sample - loss: 0.3394 - accuracy: 0.8607\n",
      "Epoch 56/100\n",
      "7500/7500 [==============================] - 1s 77us/sample - loss: 0.3392 - accuracy: 0.8617\n",
      "Epoch 57/100\n",
      "7500/7500 [==============================] - 1s 73us/sample - loss: 0.3393 - accuracy: 0.8612\n",
      "Epoch 58/100\n",
      "7500/7500 [==============================] - 1s 73us/sample - loss: 0.3389 - accuracy: 0.8619\n",
      "Epoch 59/100\n",
      "7500/7500 [==============================] - 1s 70us/sample - loss: 0.3388 - accuracy: 0.8620\n",
      "Epoch 60/100\n",
      "7500/7500 [==============================] - 1s 68us/sample - loss: 0.3391 - accuracy: 0.8620\n",
      "Epoch 61/100\n",
      "7500/7500 [==============================] - 1s 77us/sample - loss: 0.3390 - accuracy: 0.8616\n",
      "Epoch 62/100\n",
      "7500/7500 [==============================] - 1s 67us/sample - loss: 0.3386 - accuracy: 0.8637\n",
      "Epoch 63/100\n",
      "7500/7500 [==============================] - 1s 75us/sample - loss: 0.3388 - accuracy: 0.8628\n",
      "Epoch 64/100\n",
      "7500/7500 [==============================] - 1s 80us/sample - loss: 0.3387 - accuracy: 0.8616\n",
      "Epoch 65/100\n",
      "7500/7500 [==============================] - 1s 79us/sample - loss: 0.3386 - accuracy: 0.8623\n",
      "Epoch 66/100\n",
      "7500/7500 [==============================] - 1s 83us/sample - loss: 0.3386 - accuracy: 0.8628\n",
      "Epoch 67/100\n",
      "7500/7500 [==============================] - 1s 75us/sample - loss: 0.3384 - accuracy: 0.8631\n",
      "Epoch 68/100\n",
      "7500/7500 [==============================] - 1s 100us/sample - loss: 0.3385 - accuracy: 0.8636\n",
      "Epoch 69/100\n",
      "7500/7500 [==============================] - 1s 78us/sample - loss: 0.3381 - accuracy: 0.8620\n",
      "Epoch 70/100\n",
      "7500/7500 [==============================] - 1s 69us/sample - loss: 0.3384 - accuracy: 0.8628\n",
      "Epoch 71/100\n",
      "7500/7500 [==============================] - 1s 76us/sample - loss: 0.3384 - accuracy: 0.8623\n",
      "Epoch 72/100\n",
      "7500/7500 [==============================] - 1s 84us/sample - loss: 0.3382 - accuracy: 0.8635\n",
      "Epoch 73/100\n",
      "7500/7500 [==============================] - 1s 100us/sample - loss: 0.3383 - accuracy: 0.8632\n",
      "Epoch 74/100\n",
      "7500/7500 [==============================] - 1s 91us/sample - loss: 0.3382 - accuracy: 0.8624\n",
      "Epoch 75/100\n",
      "7500/7500 [==============================] - 1s 87us/sample - loss: 0.3384 - accuracy: 0.8632\n",
      "Epoch 76/100\n",
      "7500/7500 [==============================] - 1s 94us/sample - loss: 0.3384 - accuracy: 0.8628\n",
      "Epoch 77/100\n",
      "7500/7500 [==============================] - 1s 105us/sample - loss: 0.3381 - accuracy: 0.8636\n",
      "Epoch 78/100\n",
      "7500/7500 [==============================] - 1s 98us/sample - loss: 0.3383 - accuracy: 0.8609\n",
      "Epoch 79/100\n",
      "7500/7500 [==============================] - 1s 95us/sample - loss: 0.3381 - accuracy: 0.8645\n",
      "Epoch 80/100\n",
      "7500/7500 [==============================] - 1s 106us/sample - loss: 0.3380 - accuracy: 0.8627\n",
      "Epoch 81/100\n",
      "7500/7500 [==============================] - 1s 111us/sample - loss: 0.3379 - accuracy: 0.8625\n",
      "Epoch 82/100\n",
      "7500/7500 [==============================] - 1s 103us/sample - loss: 0.3381 - accuracy: 0.8615\n",
      "Epoch 83/100\n",
      "7500/7500 [==============================] - 1s 93us/sample - loss: 0.3382 - accuracy: 0.8619\n",
      "Epoch 84/100\n",
      "7500/7500 [==============================] - 1s 93us/sample - loss: 0.3379 - accuracy: 0.8639\n",
      "Epoch 85/100\n",
      "7500/7500 [==============================] - 1s 93us/sample - loss: 0.3378 - accuracy: 0.8633\n",
      "Epoch 86/100\n",
      "7500/7500 [==============================] - 1s 119us/sample - loss: 0.3381 - accuracy: 0.8635 -\n",
      "Epoch 87/100\n",
      "7500/7500 [==============================] - 1s 92us/sample - loss: 0.3378 - accuracy: 0.8623\n",
      "Epoch 88/100\n",
      "7500/7500 [==============================] - 1s 94us/sample - loss: 0.3380 - accuracy: 0.8624\n",
      "Epoch 89/100\n",
      "7500/7500 [==============================] - 1s 93us/sample - loss: 0.3377 - accuracy: 0.8632\n",
      "Epoch 90/100\n",
      "7500/7500 [==============================] - 1s 89us/sample - loss: 0.3379 - accuracy: 0.8632\n",
      "Epoch 91/100\n",
      "7500/7500 [==============================] - 1s 88us/sample - loss: 0.3378 - accuracy: 0.8628\n",
      "Epoch 92/100\n",
      "7500/7500 [==============================] - 1s 90us/sample - loss: 0.3378 - accuracy: 0.8640\n",
      "Epoch 93/100\n",
      "7500/7500 [==============================] - 1s 92us/sample - loss: 0.3377 - accuracy: 0.8639\n",
      "Epoch 94/100\n",
      "7500/7500 [==============================] - 1s 87us/sample - loss: 0.3378 - accuracy: 0.8636\n",
      "Epoch 95/100\n",
      "7500/7500 [==============================] - 1s 96us/sample - loss: 0.3377 - accuracy: 0.8627\n",
      "Epoch 96/100\n",
      "7500/7500 [==============================] - 1s 97us/sample - loss: 0.3379 - accuracy: 0.8633\n",
      "Epoch 97/100\n",
      "7500/7500 [==============================] - 1s 88us/sample - loss: 0.3377 - accuracy: 0.8621\n",
      "Epoch 98/100\n",
      "7500/7500 [==============================] - 1s 94us/sample - loss: 0.3378 - accuracy: 0.8647\n",
      "Epoch 99/100\n",
      "7500/7500 [==============================] - 1s 88us/sample - loss: 0.3376 - accuracy: 0.8632\n",
      "Epoch 100/100\n",
      "7500/7500 [==============================] - 1s 95us/sample - loss: 0.3376 - accuracy: 0.8631\n"
     ]
    },
    {
     "data": {
      "text/plain": [
       "<tensorflow.python.keras.callbacks.History at 0x235fffd9e48>"
      ]
     },
     "execution_count": 14,
     "metadata": {},
     "output_type": "execute_result"
    }
   ],
   "source": [
    "ann.fit(x_train,y_train,batch_size=32,epochs=100)"
   ]
  },
  {
   "cell_type": "code",
   "execution_count": 17,
   "metadata": {},
   "outputs": [
    {
     "name": "stdout",
     "output_type": "stream",
     "text": [
      "[[False]]\n"
     ]
    }
   ],
   "source": [
    "print(ann.predict(sc.transform([[1,0,0,600,1,40,3,60000,2,1,1,50000]]))>0.5)"
   ]
  },
  {
   "cell_type": "code",
   "execution_count": 18,
   "metadata": {},
   "outputs": [
    {
     "name": "stdout",
     "output_type": "stream",
     "text": [
      "[[0 0]\n",
      " [0 1]\n",
      " [0 0]\n",
      " ...\n",
      " [0 0]\n",
      " [0 0]\n",
      " [0 0]]\n"
     ]
    }
   ],
   "source": [
    "y_pred=ann.predict(x_test)\n",
    "y_pred=(y_pred>0.5)\n",
    "print(np.concatenate((y_pred.reshape(len(y_pred),1),y_test.reshape(len(y_test),1)),1))"
   ]
  },
  {
   "cell_type": "code",
   "execution_count": 19,
   "metadata": {},
   "outputs": [
    {
     "name": "stdout",
     "output_type": "stream",
     "text": [
      "[[1922   69]\n",
      " [ 271  238]]\n"
     ]
    },
    {
     "data": {
      "text/plain": [
       "0.864"
      ]
     },
     "execution_count": 19,
     "metadata": {},
     "output_type": "execute_result"
    }
   ],
   "source": [
    "from sklearn.metrics import confusion_matrix,accuracy_score\n",
    "cm=confusion_matrix(y_test,y_pred)\n",
    "print(cm)\n",
    "accuracy_score(y_test,y_pred)\n"
   ]
  },
  {
   "cell_type": "code",
   "execution_count": null,
   "metadata": {},
   "outputs": [],
   "source": []
  }
 ],
 "metadata": {
  "kernelspec": {
   "display_name": "Python 3",
   "language": "python",
   "name": "python3"
  },
  "language_info": {
   "codemirror_mode": {
    "name": "ipython",
    "version": 3
   },
   "file_extension": ".py",
   "mimetype": "text/x-python",
   "name": "python",
   "nbconvert_exporter": "python",
   "pygments_lexer": "ipython3",
   "version": "3.7.6"
  }
 },
 "nbformat": 4,
 "nbformat_minor": 4
}
